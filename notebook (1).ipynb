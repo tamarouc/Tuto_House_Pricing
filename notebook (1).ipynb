{
  "cells": [
    {
      "metadata": {
        "_uuid": "4847054069ab8ab9987537a33f7cd4337b75c38c",
        "_cell_guid": "e6335977-1dcb-a5bc-4856-184dd7bce3f9"
      },
      "cell_type": "markdown",
      "source": "## Trying out a linear model: \n\nAuthor: Alexandru Papiu ([@apapiu](https://twitter.com/apapiu), [GitHub](https://github.com/apapiu))\n \nIf you use parts of this notebook in your own scripts, please give some sort of credit (for example link back to this). Thanks!\n\n\nThere have been a few [great](https://www.kaggle.com/comartel/house-prices-advanced-regression-techniques/house-price-xgboost-starter/run/348739)  [scripts](https://www.kaggle.com/zoupet/house-prices-advanced-regression-techniques/xgboost-10-kfolds-with-scikit-learn/run/357561) on [xgboost](https://www.kaggle.com/tadepalli/house-prices-advanced-regression-techniques/xgboost-with-n-trees-autostop-0-12638/run/353049) already so I'd figured I'd try something simpler: a regularized linear regression model. Surprisingly it does really well with very little feature engineering. The key point is to to log_transform the numeric variables since most of them are skewed."
    },
    {
      "metadata": {
        "_uuid": "5eb7e072ba6b8f4ef66d5e1ab6d82a868dbc6365",
        "_cell_guid": "0d706811-b70c-aeab-a78b-3c7abd9978d3",
        "trusted": false,
        "collapsed": true
      },
      "cell_type": "code",
      "source": "import pandas as pd\nimport numpy as np\nimport seaborn as sns\nimport matplotlib\n\nimport matplotlib.pyplot as plt\nfrom scipy.stats import skew\nfrom scipy.stats.stats import pearsonr\n\n\n%config InlineBackend.figure_format = 'retina' #set 'png' here when working on notebook\n%matplotlib inline",
      "execution_count": null,
      "outputs": []
    },
    {
      "metadata": {
        "_uuid": "453145ac47144089f542fedae4a94d26fcade00b",
        "_cell_guid": "603292c1-44b7-d72a-5468-e6782f311603",
        "trusted": false,
        "collapsed": true
      },
      "cell_type": "code",
      "source": "train = pd.read_csv(\"../input/train.csv\")\ntest = pd.read_csv(\"../input/test.csv\")",
      "execution_count": null,
      "outputs": []
    },
    {
      "metadata": {
        "_uuid": "baa455594b1268ab7166ee581337f24403162b09",
        "_cell_guid": "d646bb1b-56c4-9b45-d5d4-27095f61b1c0",
        "trusted": false,
        "collapsed": true
      },
      "cell_type": "code",
      "source": "train.head()",
      "execution_count": null,
      "outputs": []
    },
    {
      "metadata": {
        "_uuid": "a4615365fc732d43b5f73faea0860f1fd161f2d3",
        "_cell_guid": "cb2d88d7-7f76-4b04-d28b-d2c315ae4346",
        "trusted": false,
        "collapsed": true
      },
      "cell_type": "code",
      "source": "all_data = pd.concat((train.loc[:,'MSSubClass':'SaleCondition'],\n                      test.loc[:,'MSSubClass':'SaleCondition']))",
      "execution_count": null,
      "outputs": []
    },
    {
      "metadata": {
        "_uuid": "99818d9149dd8f3aca758a6180d70083926f9155",
        "_cell_guid": "29fa13df-61e8-b0c2-b3a7-ea92bffd4396"
      },
      "cell_type": "markdown",
      "source": "###Data preprocessing: \nWe're not going to do anything fancy here: \n \n- First I'll transform the skewed numeric features by taking log(feature + 1) - this will make the features more normal    \n- Create Dummy variables for the categorical features    \n- Replace the numeric missing values (NaN's) with the mean of their respective columns"
    },
    {
      "metadata": {
        "_uuid": "9e322c007e11ab2b005b5eca27e3887532f98762",
        "_cell_guid": "9b5a3e5b-f683-3fd2-7269-4068975bbe42",
        "trusted": false,
        "collapsed": true
      },
      "cell_type": "code",
      "source": "matplotlib.rcParams['figure.figsize'] = (12.0, 6.0)\nprices = pd.DataFrame({\"price\":train[\"SalePrice\"], \"log(price + 1)\":np.log1p(train[\"SalePrice\"])})\nprices.hist()",
      "execution_count": null,
      "outputs": []
    },
    {
      "metadata": {
        "_uuid": "2d9e055c5c07a45510ea3ff95c140dd2d758c8f0",
        "_cell_guid": "4ed54771-95c4-00e7-b2cd-569d17862878",
        "trusted": false,
        "collapsed": true
      },
      "cell_type": "code",
      "source": "#log transform the target:\ntrain[\"SalePrice\"] = np.log1p(train[\"SalePrice\"])\n\n#log transform skewed numeric features:\nnumeric_feats = all_data.dtypes[all_data.dtypes != \"object\"].index\n\nskewed_feats = train[numeric_feats].apply(lambda x: skew(x.dropna())) #compute skewness\nskewed_feats = skewed_feats[skewed_feats > 0.75]\nskewed_feats = skewed_feats.index\n\nall_data[skewed_feats] = np.log1p(all_data[skewed_feats])",
      "execution_count": null,
      "outputs": []
    },
    {
      "metadata": {
        "_uuid": "d4a2e9a1ad97500c973dfe49ac51fb3772c4489e",
        "_cell_guid": "3854ab12-a4f3-4c88-fe6e-1fee08e18af2",
        "trusted": false,
        "collapsed": true
      },
      "cell_type": "code",
      "source": "all_data = pd.get_dummies(all_data)",
      "execution_count": null,
      "outputs": []
    },
    {
      "metadata": {
        "_uuid": "525d9a1c79b46e60ad584bf1262ff5d0563e87d9",
        "_cell_guid": "5d417300-0deb-3353-cabf-95f75af62678",
        "trusted": false,
        "collapsed": true
      },
      "cell_type": "code",
      "source": "#filling NA's with the mean of the column:\nall_data = all_data.fillna(all_data.mean())",
      "execution_count": null,
      "outputs": []
    },
    {
      "metadata": {
        "_uuid": "e2dc1c70831012288ffc6ed271be20119b54cb0a",
        "_cell_guid": "fe687685-cdac-0a89-4d71-af2d11d87a81",
        "trusted": false,
        "collapsed": true
      },
      "cell_type": "code",
      "source": "#creating matrices for sklearn:\nX_train = all_data[:train.shape[0]]\nX_test = all_data[train.shape[0]:]\ny = train.SalePrice",
      "execution_count": null,
      "outputs": []
    },
    {
      "metadata": {
        "_uuid": "278ef5601fb11422bf9338091f80a4d61dd1c743",
        "_cell_guid": "cc4e3014-23b7-2971-ddb0-f67b03f83558"
      },
      "cell_type": "markdown",
      "source": "###Models\n\nNow we are going to use regularized linear regression models from the scikit learn module. I'm going to try both l_1(Lasso) and l_2(Ridge) regularization. I'll also define a function that returns the cross-validation rmse error so we can evaluate our models and pick the best tuning par"
    },
    {
      "metadata": {
        "_uuid": "c6e178b1ae4f475da3e1aa7e0a4fd897af23a45b",
        "_cell_guid": "82886739-eee6-5d7a-4be9-e1fe6ac059f1",
        "trusted": false,
        "collapsed": true
      },
      "cell_type": "code",
      "source": "from sklearn.linear_model import Ridge, RidgeCV, ElasticNet, LassoCV, LassoLarsCV\nfrom sklearn.model_selection import cross_val_score\n\ndef rmse_cv(model):\n    rmse= np.sqrt(-cross_val_score(model, X_train, y, scoring=\"neg_mean_squared_error\", cv = 5))\n    return(rmse)",
      "execution_count": null,
      "outputs": []
    },
    {
      "metadata": {
        "_uuid": "680280c62d3cd3185cf5778c7fab63156fd223ae",
        "_cell_guid": "436ce6e8-917f-8c88-3d7b-245e82a1619f",
        "trusted": false,
        "collapsed": true
      },
      "cell_type": "code",
      "source": "model_ridge = Ridge()",
      "execution_count": null,
      "outputs": []
    },
    {
      "metadata": {
        "_uuid": "720d0e105a13c3b4c48358ca97634e0885037af4",
        "_cell_guid": "69ff958c-dbbb-4750-3fb0-d0ac17ff6363"
      },
      "cell_type": "markdown",
      "source": "The main tuning parameter for the Ridge model is alpha - a regularization parameter that measures how flexible our model is. The higher the regularization the less prone our model will be to overfit. However it will also lose flexibility and might not capture all of the signal in the data."
    },
    {
      "metadata": {
        "_uuid": "697acc3e8028919c0daee5f981579ffb9e34c12c",
        "_cell_guid": "f6b86166-f581-6e05-5274-d3d3516ebaf3",
        "trusted": false,
        "collapsed": true
      },
      "cell_type": "code",
      "source": "alphas = [0.05, 0.1, 0.3, 1, 3, 5, 10, 15, 30, 50, 75]\ncv_ridge = [rmse_cv(Ridge(alpha = alpha)).mean() \n            for alpha in alphas]",
      "execution_count": null,
      "outputs": []
    },
    {
      "metadata": {
        "_uuid": "b88fb5dc338005d10dbe78f160989c68837c22b8",
        "_cell_guid": "f8cf53ba-8441-9233-b7f5-a851d270b770",
        "trusted": false,
        "collapsed": true
      },
      "cell_type": "code",
      "source": "cv_ridge = pd.Series(cv_ridge, index = alphas)\ncv_ridge.plot(title = \"Validation - Just Do It\")\nplt.xlabel(\"alpha\")\nplt.ylabel(\"rmse\")",
      "execution_count": null,
      "outputs": []
    },
    {
      "metadata": {
        "_uuid": "d98081cf6e8e6ea1ee2aa7e75f452dda61f80785",
        "_cell_guid": "37486402-4a48-912f-84ee-a3611334b133"
      },
      "cell_type": "markdown",
      "source": "Note the U-ish shaped curve above. When alpha is too large the regularization is too strong and the model cannot capture all the complexities in the data. If however we let the model be too flexible (alpha small) the model begins to overfit. A value of alpha = 10 is about right based on the plot above."
    },
    {
      "metadata": {
        "_uuid": "b42ebac0d9061678b0bc052f71d8ff79428d221a",
        "_cell_guid": "d42c18c9-ee70-929f-ce63-aac7f77796cc",
        "trusted": false,
        "collapsed": true
      },
      "cell_type": "code",
      "source": "cv_ridge.min()",
      "execution_count": null,
      "outputs": []
    },
    {
      "metadata": {
        "_uuid": "e85484a56dd53c134360b17808b2eb0225eb558a",
        "_cell_guid": "863fb699-7bcd-3748-3dbb-1c9b18afee9b"
      },
      "cell_type": "markdown",
      "source": "So for the Ridge regression we get a rmsle of about 0.127\n\nLet' try out the Lasso model. We will do a slightly different approach here and use the built in Lasso CV to figure out the best alpha for us. For some reason the alphas in Lasso CV are really the inverse or the alphas in Ridge."
    },
    {
      "metadata": {
        "_uuid": "94ace45181046d275dda2493ae8f389d5b903785",
        "_cell_guid": "8204520c-a595-2ad2-4685-0b84cc662b84",
        "trusted": false,
        "collapsed": true
      },
      "cell_type": "code",
      "source": "model_lasso = LassoCV(alphas = [1, 0.1, 0.001, 0.0005]).fit(X_train, y)",
      "execution_count": null,
      "outputs": []
    },
    {
      "metadata": {
        "_uuid": "bccc796fdf63862e747b8a2d30867379aeee2eed",
        "_cell_guid": "e78e6126-4de0-08ad-250b-46a3f0f48de0",
        "trusted": false,
        "collapsed": true
      },
      "cell_type": "code",
      "source": "rmse_cv(model_lasso).mean()",
      "execution_count": null,
      "outputs": []
    },
    {
      "metadata": {
        "_uuid": "29ba8248e204bbf66bb8f9783ebe5cd02cb22d37",
        "_cell_guid": "abc5f43e-1c38-4c1e-cb70-a95c8d9be8de"
      },
      "cell_type": "markdown",
      "source": "Nice! The lasso performs even better so we'll just use this one to predict on the test set. Another neat thing about the Lasso is that it does feature selection for you - setting coefficients of features it deems unimportant to zero. Let's take a look at the coefficients:"
    },
    {
      "metadata": {
        "_uuid": "005525aabbb24c322481b144d6a9b0fc97f5f365",
        "_cell_guid": "c7be87ca-412a-cb19-1524-cd94cf698d44",
        "trusted": false,
        "collapsed": true
      },
      "cell_type": "code",
      "source": "coef = pd.Series(model_lasso.coef_, index = X_train.columns)",
      "execution_count": null,
      "outputs": []
    },
    {
      "metadata": {
        "_uuid": "93d1d6270029921732cd7a7f8cf0a60670c692ea",
        "_cell_guid": "14be641e-bbe0-824d-d90f-f47698c8b5c5",
        "trusted": false,
        "collapsed": true
      },
      "cell_type": "code",
      "source": "print(\"Lasso picked \" + str(sum(coef != 0)) + \" variables and eliminated the other \" +  str(sum(coef == 0)) + \" variables\")",
      "execution_count": null,
      "outputs": []
    },
    {
      "metadata": {
        "_uuid": "fbec3537a8f758cb894d0e6eed3fa5327220e4ab",
        "_cell_guid": "ca153134-b109-1afc-e066-44273f65d44c"
      },
      "cell_type": "markdown",
      "source": "Good job Lasso.  One thing to note here however is that the features selected are not necessarily the \"correct\" ones - especially since there are a lot of collinear features in this dataset. One idea to try here is run Lasso a few times on boostrapped samples and see how stable the feature selection is."
    },
    {
      "metadata": {
        "_uuid": "bd20e3ce191d3ef518363c09094aab70b72a9653",
        "_cell_guid": "632e23a8-948f-c692-f5e9-1aa8a75f21d5"
      },
      "cell_type": "markdown",
      "source": "We can also take a look directly at what the most important coefficients are:"
    },
    {
      "metadata": {
        "_uuid": "b85b73e55fc489604da2d9f027017c0eed47555c",
        "_cell_guid": "3efc02df-c877-b1fe-1807-5dd93c896c63",
        "trusted": false,
        "collapsed": true
      },
      "cell_type": "code",
      "source": "imp_coef = pd.concat([coef.sort_values().head(10),\n                     coef.sort_values().tail(10)])",
      "execution_count": null,
      "outputs": []
    },
    {
      "metadata": {
        "_uuid": "1bb6ae448202f8034497eb8db53f252fc9e8cc1a",
        "_cell_guid": "87317789-6e7e-d57f-0b54-d8ba0ee26abf",
        "trusted": false,
        "collapsed": true
      },
      "cell_type": "code",
      "source": "matplotlib.rcParams['figure.figsize'] = (8.0, 10.0)\nimp_coef.plot(kind = \"barh\")\nplt.title(\"Coefficients in the Lasso Model\")",
      "execution_count": null,
      "outputs": []
    },
    {
      "metadata": {
        "_uuid": "e4998731d8f401296d16b7f07f6d68406cfa45b4",
        "_cell_guid": "f6e6f820-1ec6-4a69-c309-9992b80652da"
      },
      "cell_type": "markdown",
      "source": "The most important positive feature is `GrLivArea` -  the above ground area by area square feet. This definitely sense. Then a few other  location and quality features contributed positively. Some of the negative features make less sense and would be worth looking into more - it seems like they might come from unbalanced categorical variables.\n\n Also note that unlike the feature importance you'd get from a random forest these are _actual_ coefficients in your model - so you can say precisely why the predicted price is what it is. The only issue here is that we log_transformed both the target and the numeric features so the actual magnitudes are a bit hard to interpret. "
    },
    {
      "metadata": {
        "_uuid": "4cd363c6197ae3c215325bd6b4aab38ba1e63f06",
        "_cell_guid": "cdeaa3d3-f9ad-2e06-1339-61b4425a43f8",
        "trusted": false,
        "collapsed": true
      },
      "cell_type": "code",
      "source": "#let's look at the residuals as well:\nmatplotlib.rcParams['figure.figsize'] = (6.0, 6.0)\n\npreds = pd.DataFrame({\"preds\":model_lasso.predict(X_train), \"true\":y})\npreds[\"residuals\"] = preds[\"true\"] - preds[\"preds\"]\npreds.plot(x = \"preds\", y = \"residuals\",kind = \"scatter\")",
      "execution_count": null,
      "outputs": []
    },
    {
      "metadata": {
        "_uuid": "8e76913c5a30767e4a58b4a1e8f823d4c53cb830",
        "_cell_guid": "4780532e-2815-e355-9a96-fb1c598f6984"
      },
      "cell_type": "markdown",
      "source": "The residual plot looks pretty good.To wrap it up let's predict on the test set and submit on the leaderboard:"
    },
    {
      "metadata": {
        "_uuid": "616405a27fd005ad26c7d5ed9f9449dcf6d4b693",
        "_cell_guid": "f8da43e0-fd51-a4c9-d9b2-364d9911699a"
      },
      "cell_type": "markdown",
      "source": "### Adding an xgboost model:"
    },
    {
      "metadata": {
        "_uuid": "928a74b82ec737ce04b15b37a6721e34d2dd04e8",
        "_cell_guid": "ae9bcc1a-5106-0909-ecf7-0abc2d2ca386"
      },
      "cell_type": "markdown",
      "source": "Let's add an xgboost model to our linear model to see if we can improve our score:"
    },
    {
      "metadata": {
        "_uuid": "2ae713bb38fb1c499b3ea652e7f53f9814df1982",
        "_cell_guid": "654e4fcf-a049-921a-4783-3c6d6dcca673",
        "trusted": false,
        "collapsed": true
      },
      "cell_type": "code",
      "source": "import xgboost as xgb",
      "execution_count": null,
      "outputs": []
    },
    {
      "metadata": {
        "_uuid": "63c55bbe90eb447e00842538e6a0970c7d23d567",
        "_cell_guid": "be53a9f8-d88b-05fb-734d-3a1388d39864",
        "trusted": false,
        "collapsed": true
      },
      "cell_type": "code",
      "source": "\ndtrain = xgb.DMatrix(X_train, label = y)\ndtest = xgb.DMatrix(X_test)\n\nparams = {\"max_depth\":2, \"eta\":0.1}\nmodel = xgb.cv(params, dtrain,  num_boost_round=500, early_stopping_rounds=100)",
      "execution_count": null,
      "outputs": []
    },
    {
      "metadata": {
        "_uuid": "2f534f5c2b524de214755dd973dccb4b53881b36",
        "_cell_guid": "c9d5bfe5-a0a8-0b10-d54a-1dfbb6123bd0",
        "trusted": false,
        "collapsed": true
      },
      "cell_type": "code",
      "source": "model.loc[30:,[\"test-rmse-mean\", \"train-rmse-mean\"]].plot()",
      "execution_count": null,
      "outputs": []
    },
    {
      "metadata": {
        "_uuid": "514ea7071e9c1990c62906c2ae633d761e1a9e49",
        "_cell_guid": "00b8a271-0f93-c757-7e33-516c3a297628",
        "trusted": false,
        "collapsed": true
      },
      "cell_type": "code",
      "source": "model_xgb = xgb.XGBRegressor(n_estimators=360, max_depth=2, learning_rate=0.1) #the params were tuned using xgb.cv\nmodel_xgb.fit(X_train, y)",
      "execution_count": null,
      "outputs": []
    },
    {
      "metadata": {
        "_uuid": "61b780c48ebff40ea3499bd95f38862b9d35d9a2",
        "_cell_guid": "2b87a004-3a9a-77cc-4b5b-6540f870c028",
        "trusted": false,
        "collapsed": true
      },
      "cell_type": "code",
      "source": "xgb_preds = np.expm1(model_xgb.predict(X_test))\nlasso_preds = np.expm1(model_lasso.predict(X_test))",
      "execution_count": null,
      "outputs": []
    },
    {
      "metadata": {
        "_uuid": "fe56758a422ddd61a93c6deedfeba0eef5ed4e38",
        "_cell_guid": "1c9c640b-9e6c-a350-0691-7f6a7dc19c41",
        "trusted": false,
        "collapsed": true
      },
      "cell_type": "code",
      "source": "predictions = pd.DataFrame({\"xgb\":xgb_preds, \"lasso\":lasso_preds})\npredictions.plot(x = \"xgb\", y = \"lasso\", kind = \"scatter\")",
      "execution_count": null,
      "outputs": []
    },
    {
      "metadata": {
        "_uuid": "779dfab7a18cb2e03a1f396bfcad5b6ae9bfa81c",
        "_cell_guid": "74c9bdd2-afbb-5fdf-a776-a8eebfa30d12"
      },
      "cell_type": "markdown",
      "source": "Many times it makes sense to take a weighted average of uncorrelated results - this usually imporoves the score although in this case it doesn't help that much."
    },
    {
      "metadata": {
        "_uuid": "2edd69fd0028d253e6513a849233ee3a8fc9ce2c",
        "_cell_guid": "623ed0fe-0150-5226-db27-90a321061d52",
        "trusted": false,
        "collapsed": true
      },
      "cell_type": "code",
      "source": "preds = 0.7*lasso_preds + 0.3*xgb_preds",
      "execution_count": null,
      "outputs": []
    },
    {
      "metadata": {
        "_uuid": "b95d796d6bca2dd40ad31c9634e1d84ce98929c2",
        "_cell_guid": "569d7154-e3b5-84ab-1d28-57bdc02955d9",
        "trusted": false,
        "collapsed": true
      },
      "cell_type": "code",
      "source": "solution = pd.DataFrame({\"id\":test.Id, \"SalePrice\":preds})\nsolution.to_csv(\"ridge_sol.csv\", index = False)",
      "execution_count": null,
      "outputs": []
    },
    {
      "metadata": {
        "_uuid": "2f823ce9c52e9d348a3618dae91e407c3cd7eea1",
        "_cell_guid": "fe4ec3c9-ae45-e01e-d881-32da250d44ba"
      },
      "cell_type": "markdown",
      "source": "### Trying out keras?\n\nFeedforward Neural Nets doesn't seem to work well at all...I wonder why."
    },
    {
      "metadata": {
        "_uuid": "2d9f6c4b4d162c8dd3906ed997cc0a2a173f328e",
        "_cell_guid": "12121592-5b16-5957-6c54-3fe84bc6708a",
        "trusted": false,
        "collapsed": true
      },
      "cell_type": "code",
      "source": "from keras.layers import Dense\nfrom keras.models import Sequential\nfrom keras.regularizers import l1\nfrom sklearn.preprocessing import StandardScaler\nfrom sklearn.model_selection import train_test_split",
      "execution_count": null,
      "outputs": []
    },
    {
      "metadata": {
        "_uuid": "bd720cec0f1b19f5bc4c3ebff4d2a3d4de86901d",
        "_cell_guid": "246a88ac-3963-a603-cf33-eb2976737c98",
        "trusted": false,
        "collapsed": true
      },
      "cell_type": "code",
      "source": "X_train = StandardScaler().fit_transform(X_train)",
      "execution_count": null,
      "outputs": []
    },
    {
      "metadata": {
        "_uuid": "b41962cd2b992e2cfb2c2635a790a8f88611d29a",
        "_cell_guid": "04936965-5441-3989-1f07-97138b331dbc",
        "trusted": false,
        "collapsed": true
      },
      "cell_type": "code",
      "source": "X_tr, X_val, y_tr, y_val = train_test_split(X_train, y, random_state = 3)",
      "execution_count": null,
      "outputs": []
    },
    {
      "metadata": {
        "_uuid": "a7e23dcac9a1ac7d95e3dcfe002c77a6e41f2683",
        "_cell_guid": "5223b976-c02e-062e-5c73-60516bf70fa5",
        "trusted": false,
        "collapsed": true
      },
      "cell_type": "code",
      "source": "X_tr.shape",
      "execution_count": null,
      "outputs": []
    },
    {
      "metadata": {
        "_uuid": "82dfaefcfd575adf4aeeeb5e02f253bd67ca44fc",
        "_cell_guid": "7b7e0df1-ea9c-5dcb-41cd-f79509218a20",
        "trusted": false,
        "collapsed": true
      },
      "cell_type": "code",
      "source": "X_tr",
      "execution_count": null,
      "outputs": []
    },
    {
      "metadata": {
        "_uuid": "3aa8662fdc6f8937e9ae72b0e656ab53f38c800d",
        "_cell_guid": "14ef62de-56e3-03cc-00c6-a5e2307d1b6a",
        "trusted": false,
        "collapsed": true
      },
      "cell_type": "code",
      "source": "model = Sequential()\n#model.add(Dense(256, activation=\"relu\", input_dim = X_train.shape[1]))\nmodel.add(Dense(1, input_dim = X_train.shape[1], W_regularizer=l1(0.001)))\n\nmodel.compile(loss = \"mse\", optimizer = \"adam\")",
      "execution_count": null,
      "outputs": []
    },
    {
      "metadata": {
        "_uuid": "09bdb4f24dd70d188eb095418ed4a6c6e83378f8",
        "_cell_guid": "082332bc-b36b-30db-1e0e-c212fba98b58",
        "trusted": false,
        "collapsed": true
      },
      "cell_type": "code",
      "source": "model.summary()",
      "execution_count": null,
      "outputs": []
    },
    {
      "metadata": {
        "_uuid": "ffee4b1118d42cc1e7eac352bcb11b5d993d592f",
        "_cell_guid": "ad155a35-1d0b-c42f-9bdf-77ff389ddfd4",
        "trusted": false,
        "collapsed": true
      },
      "cell_type": "code",
      "source": "hist = model.fit(X_tr, y_tr, validation_data = (X_val, y_val))",
      "execution_count": null,
      "outputs": []
    },
    {
      "metadata": {
        "_uuid": "c4d14a9c5212f045fd406741314d4dad30244212",
        "_cell_guid": "d6c6354f-047b-1d8e-c024-15bb5d570f15",
        "trusted": false,
        "collapsed": true
      },
      "cell_type": "code",
      "source": "pd.Series(model.predict(X_val)[:,0]).hist()",
      "execution_count": null,
      "outputs": []
    }
  ],
  "metadata": {
    "kernelspec": {
      "display_name": "Python 3",
      "language": "python",
      "name": "python3"
    },
    "_change_revision": 0,
    "language_info": {
      "codemirror_mode": {
        "name": "ipython",
        "version": 3
      },
      "nbconvert_exporter": "python",
      "version": "3.6.0",
      "mimetype": "text/x-python",
      "file_extension": ".py",
      "pygments_lexer": "ipython3",
      "name": "python"
    },
    "_is_fork": false
  },
  "nbformat": 4,
  "nbformat_minor": 1
}